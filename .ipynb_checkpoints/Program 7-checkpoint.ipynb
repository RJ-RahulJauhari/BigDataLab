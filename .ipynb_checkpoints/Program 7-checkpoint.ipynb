{
 "cells": [
  {
   "cell_type": "code",
   "execution_count": 4,
   "id": "0c88da92-8a91-4ad7-a402-ccf1b94c34d7",
   "metadata": {},
   "outputs": [],
   "source": [
    "from pyspark.sql import SparkSession \n",
    "import pandas as pd"
   ]
  },
  {
   "cell_type": "code",
   "execution_count": 5,
   "id": "c198adc8-3f2a-46a3-8d37-01080857d32e",
   "metadata": {},
   "outputs": [],
   "source": [
    "spark = SparkSession.builder.appName('App1').getOrCreate()"
   ]
  },
  {
   "cell_type": "code",
   "execution_count": 8,
   "id": "06a86c9d-ba15-4898-8e14-7714646d2ee1",
   "metadata": {},
   "outputs": [],
   "source": [
    "input_path = 'placement-dataset.csv'"
   ]
  },
  {
   "cell_type": "code",
   "execution_count": 9,
   "id": "c8656fc7-5ce0-4346-a4ea-0199780e0fd1",
   "metadata": {},
   "outputs": [],
   "source": [
    "df = spark.read.csv(input_path,header = True, inferSchema = True)"
   ]
  },
  {
   "cell_type": "code",
   "execution_count": 10,
   "id": "eb276ee7-5ea2-4f87-ac83-d65d5a8ced0b",
   "metadata": {},
   "outputs": [
    {
     "name": "stdout",
     "output_type": "stream",
     "text": [
      "root\n",
      " |-- _c0: integer (nullable = true)\n",
      " |-- cgpa: double (nullable = true)\n",
      " |-- iq: double (nullable = true)\n",
      " |-- placement: integer (nullable = true)\n",
      "\n"
     ]
    }
   ],
   "source": [
    "df.printSchema()"
   ]
  },
  {
   "cell_type": "code",
   "execution_count": 11,
   "id": "071ac2cf-d6a6-486d-8bae-602a47940139",
   "metadata": {},
   "outputs": [
    {
     "name": "stdout",
     "output_type": "stream",
     "text": [
      "+---+----+-----+---------+\n",
      "|_c0|cgpa|   iq|placement|\n",
      "+---+----+-----+---------+\n",
      "|  0| 6.8|123.0|        1|\n",
      "|  1| 5.9|106.0|        0|\n",
      "|  2| 5.3|121.0|        0|\n",
      "|  3| 7.4|132.0|        1|\n",
      "|  4| 5.8|142.0|        0|\n",
      "|  5| 7.1| 48.0|        1|\n",
      "|  6| 5.7|143.0|        0|\n",
      "|  7| 5.0| 63.0|        0|\n",
      "|  8| 6.1|156.0|        0|\n",
      "|  9| 5.1| 66.0|        0|\n",
      "| 10| 6.0| 45.0|        1|\n",
      "| 11| 6.9|138.0|        1|\n",
      "| 12| 5.4|139.0|        0|\n",
      "| 13| 6.4|116.0|        1|\n",
      "| 14| 6.1|103.0|        0|\n",
      "| 15| 5.1|176.0|        0|\n",
      "| 16| 5.2|224.0|        0|\n",
      "| 17| 3.3|183.0|        0|\n",
      "| 18| 4.0|100.0|        0|\n",
      "| 19| 5.2|132.0|        0|\n",
      "+---+----+-----+---------+\n",
      "only showing top 20 rows\n",
      "\n"
     ]
    }
   ],
   "source": [
    "df.show()"
   ]
  },
  {
   "cell_type": "code",
   "execution_count": 12,
   "id": "157b3c39-6493-4fc7-b7f7-29615a5bdf09",
   "metadata": {},
   "outputs": [],
   "source": [
    "df2 = df.toPandas()"
   ]
  },
  {
   "cell_type": "code",
   "execution_count": 13,
   "id": "ab140f57-7561-48e8-957b-f260bf350e65",
   "metadata": {},
   "outputs": [],
   "source": [
    "df2.to_csv(\"output\")"
   ]
  },
  {
   "cell_type": "code",
   "execution_count": 15,
   "id": "b8065e0a-3125-4ccd-b9ad-b3e00d153fc5",
   "metadata": {},
   "outputs": [],
   "source": [
    "spark.stop()"
   ]
  }
 ],
 "metadata": {
  "kernelspec": {
   "display_name": "Python 3 (ipykernel)",
   "language": "python",
   "name": "python3"
  },
  "language_info": {
   "codemirror_mode": {
    "name": "ipython",
    "version": 3
   },
   "file_extension": ".py",
   "mimetype": "text/x-python",
   "name": "python",
   "nbconvert_exporter": "python",
   "pygments_lexer": "ipython3",
   "version": "3.12.1"
  },
  "widgets": {
   "application/vnd.jupyter.widget-state+json": {
    "state": {},
    "version_major": 2,
    "version_minor": 0
   }
  }
 },
 "nbformat": 4,
 "nbformat_minor": 5
}
